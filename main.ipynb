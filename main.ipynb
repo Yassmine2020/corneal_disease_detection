{
 "cells": [
  {
   "cell_type": "markdown",
   "metadata": {},
   "source": [
    "## Import libraries "
   ]
  },
  {
   "cell_type": "code",
   "execution_count": 1,
   "metadata": {},
   "outputs": [
    {
     "name": "stdout",
     "output_type": "stream",
     "text": [
      "Looking for C:\\Users\\DELL\\.keras-ocr\\craft_mlt_25k.h5\n",
      "Looking for C:\\Users\\DELL\\.keras-ocr\\crnn_kurapan.h5\n"
     ]
    }
   ],
   "source": [
    "from PIL import Image as Img\n",
    "from PIL import ImageTk\n",
    "from tkinter import *\n",
    "import tkinter.filedialog as fd\n",
    "import tkinter.font as ft\n",
    "import pytesseract\n",
    "import cv2\n",
    "import os\n",
    "import pandas as pd\n",
    "import numpy as np\n",
    "import matplotlib.pyplot as plt\n",
    "import keras_ocr\n",
    "import math\n",
    "import glob\n",
    "import matplotlib as mpl\n",
    "# import numba\n",
    "\n",
    "pytesseract.pytesseract.tesseract_cmd = r'C:\\Program Files\\Tesseract-OCR\\tesseract.exe'\n",
    "\n",
    "pipeline = keras_ocr.pipeline.Pipeline()\n",
    "\n",
    "mpl.rc('figure', max_open_warning = 0)"
   ]
  },
  {
   "cell_type": "markdown",
   "metadata": {},
   "source": [
    "### foo function"
   ]
  },
  {
   "cell_type": "code",
   "execution_count": 2,
   "metadata": {},
   "outputs": [],
   "source": [
    "index = 0\n",
    "\n",
    "def foo():\n",
    "    global index\n",
    "    index += 1\n",
    "    return index"
   ]
  },
  {
   "cell_type": "markdown",
   "metadata": {},
   "source": [
    "## Part 1"
   ]
  },
  {
   "cell_type": "markdown",
   "metadata": {},
   "source": [
    "### Crop original image"
   ]
  },
  {
   "cell_type": "markdown",
   "metadata": {},
   "source": [
    "décorticer l'image en 5 images : "
   ]
  },
  {
   "cell_type": "code",
   "execution_count": null,
   "metadata": {},
   "outputs": [],
   "source": [
    "# print(raw_img.shape)\n",
    "\n",
    "def crop_orig_img(img):\n",
    "    foo()\n",
    "    # Prints Dimensions of the image\n",
    "    # print(img.shape)\n",
    "\n",
    "    # crop the part where the vaLues should be detected\n",
    "    cropped_image = img[157:729, 0:295] \n",
    "    filename = \"src/v{}.png\".format(index)\n",
    "    cv2.imwrite(filename, cropped_image)\n",
    "\n",
    "    # crop d images\n",
    "    cropped_image1 = img[84:360, 375:651] \n",
    "    filename1 = \"src/d1_{}.png\".format(index)\n",
    "    cv2.imwrite(filename1, cropped_image1)\n",
    "\n",
    "    cropped_image2 = img[84:360, 690:945] \n",
    "    filename2 = \"src/d2_{}.png\".format(index)\n",
    "    cv2.imwrite(filename2, cropped_image2)\n",
    "\n",
    "    cropped_image3 = img[420:690, 375:651] \n",
    "    filename3 = \"src/d3_{}.png\".format(index)\n",
    "    cv2.imwrite(filename3, cropped_image3)\n",
    "\n",
    "    cropped_image4 = img[420:690, 690:945] \n",
    "    filename4 = \"src/d4_{}.png\".format(index)\n",
    "    cv2.imwrite(filename4, cropped_image4)\n",
    "\n",
    "    \n",
    "    return filename\n"
   ]
  },
  {
   "cell_type": "code",
   "execution_count": null,
   "metadata": {},
   "outputs": [],
   "source": [
    "# raw_img=cv2.imread('src/info_project1.jpeg')\n",
    "# crop_orig_img(raw_img)"
   ]
  },
  {
   "cell_type": "markdown",
   "metadata": {},
   "source": [
    "### Crop v image "
   ]
  },
  {
   "cell_type": "code",
   "execution_count": null,
   "metadata": {},
   "outputs": [],
   "source": [
    "# crop v image to all value sections and create dict key as title of the value and the value empty  \n",
    "\n",
    "# i guess empty and unseful cases should be removed  \n",
    "\n",
    "\n",
    "def crop_vimg(img):\n",
    "    foo()\n",
    "    # print(img.shape)\n",
    "   \n",
    "    cropped_image1=img[25:43,115:175]\n",
    "    filename1=\"src/RFCF{}.png\".format(index)\n",
    "    cv2.imwrite(filename1,cropped_image1)\n",
    "   \n",
    "    cropped_image2=img[53:71,115:175]\n",
    "    filename2=\"src/RSCF{}.png\".format(index)\n",
    "    cv2.imwrite(filename2,cropped_image2)\n",
    "   \n",
    "    cropped_image3=img[81:99,115:175]\n",
    "    filename3=\"src/RmCF{}.png\".format(index)\n",
    "    cv2.imwrite(filename3, cropped_image3)  \n",
    "   \n",
    "    cropped_image4=img[109:127,115:175]\n",
    "    filename4=\"src/AxisCF{}.png\".format(index)\n",
    "    cv2.imwrite(filename4, cropped_image4)\n",
    "   \n",
    "    cropped_image5=img[132:151,123:181]\n",
    "    filename5=\"src/RperCF{}.png\".format(index)\n",
    "    cv2.imwrite(filename5, cropped_image5)    \n",
    "   \n",
    "    cropped_image6=img[26:44,229:286]\n",
    "    filename6=\"src/K1CF{}.png\".format(index)\n",
    "    cv2.imwrite(filename6, cropped_image6)\n",
    "   \n",
    "    cropped_image7=img[53:71,221:281]\n",
    "    filename7=\"src/K2CF{}.png\".format(index)\n",
    "    cv2.imwrite(filename7, cropped_image7)\n",
    "   \n",
    "    cropped_image8=img[81:99,221:281]\n",
    "    filename8=\"src/KmCF{}.png\".format(index)\n",
    "    cv2.imwrite(filename8, cropped_image8)\n",
    "   \n",
    "    cropped_image9=img[106:125,229:286]\n",
    "    filename9=\"src/AstigCF{}.png\".format(index)\n",
    "    cv2.imwrite(filename9, cropped_image9)\n",
    "   \n",
    "    cropped_image10=img[134:150,229:286]\n",
    "    filename10=\"src/RminCF{}.png\".format(index)\n",
    "    cv2.imwrite(filename10, cropped_image10)\n",
    "   \n",
    "    # cropped_image11=img[109:127,42:102]\n",
    "    # filename11=\"src/QSCF{}.png\".format(index)\n",
    "    # cv2.imwrite(filename11, cropped_image11)\n",
    "   \n",
    "    cropped_image12=img[133:150,49:83]\n",
    "    filename12=\"src/QvalCF{}.png\".format(index)\n",
    "    cv2.imwrite(filename12, cropped_image12)\n",
    "   \n",
    "   \n",
    "    cropped_image13=img[185:203,115:175]\n",
    "    filename13=\"src/RFCB{}.png\".format(index)\n",
    "    cv2.imwrite(filename13, cropped_image13)\n",
    "   \n",
    "    cropped_image14=img[213:231,124:148]\n",
    "    filename14=\"src/RSCB{}.png\".format(index)\n",
    "    cv2.imwrite(filename14, cropped_image14)\n",
    "   \n",
    "    cropped_image15=img[241:259,115:175]\n",
    "    filename15=\"src/RmCB{}.png\".format(index)\n",
    "    cv2.imwrite(filename15, cropped_image15)\n",
    "   \n",
    "    cropped_image16=img[269:287,115:175]\n",
    "    filename16=\"src/AxisCB{}.png\".format(index)\n",
    "    cv2.imwrite(filename16, cropped_image16)\n",
    "   \n",
    "    cropped_image17=img[297:315,115:175]\n",
    "    filename17=\"src/RperCB{}.png\".format(index)\n",
    "    cv2.imwrite(filename17, cropped_image17)\n",
    "   \n",
    "    cropped_image18=img[188:204,229:286]\n",
    "    filename18=\"src/K1CB{}.png\".format(index)\n",
    "    cv2.imwrite(filename18, cropped_image18)\n",
    "   \n",
    "    cropped_image19=img[213:231,221:281]\n",
    "    filename19=\"src/K2CB{}.png\".format(index)\n",
    "    cv2.imwrite(filename19, cropped_image19)\n",
    "   \n",
    "    cropped_image20=img[241:259,221:281]\n",
    "    filename20=\"src/KmCB{}.png\".format(index)\n",
    "    cv2.imwrite(filename20, cropped_image20)\n",
    "   \n",
    "    cropped_image21=img[269:287,221:281]\n",
    "    filename21=\"src/AstigCB{}.png\".format(index)\n",
    "    cv2.imwrite(filename21, cropped_image21)\n",
    "   \n",
    "    cropped_image22=img[297:315,221:281]\n",
    "    filename22=\"src/RminCB{}.png\".format(index)\n",
    "    cv2.imwrite(filename22, cropped_image22)\n",
    "   \n",
    "    # cropped_image23=img[269:287,42:102]\n",
    "    # filename23=\"src/v{}_23.png\".format(index)\n",
    "    # cv2.imwrite(filename23, cropped_image23)\n",
    "   \n",
    "    cropped_image24=img[297:315,42:102]\n",
    "    filename24=\"src/QvalCB{}.png\".format(index)\n",
    "    cv2.imwrite(filename24, cropped_image24)\n",
    "   \n",
    "    cropped_image25=img[351:369,115:175]\n",
    "    filename25=\"src/PCP{}.png\".format(index)\n",
    "    cv2.imwrite(filename25, cropped_image25)\n",
    "   \n",
    "    cropped_image26=img[377:395,115:175]\n",
    "    filename26=\"src/PAP{}.png\".format(index)\n",
    "    cv2.imwrite(filename26, cropped_image26)\n",
    "   \n",
    "    cropped_image27=img[403:421,115:175]\n",
    "    filename27=\"src/TLP{}.png\".format(index)\n",
    "    cv2.imwrite(filename27, cropped_image27)\n",
    "   \n",
    "    cropped_image28=img[426:443,123:149]\n",
    "    filename28=\"src/KMAXP{}.png\".format(index)\n",
    "    cv2.imwrite(filename28, cropped_image28)\n",
    "   \n",
    "    cropped_image29=img[350:369,204:237]\n",
    "    filename29=\"src/PCX{}.png\".format(index)\n",
    "    cv2.imwrite(filename29, cropped_image29)\n",
    "   \n",
    "    cropped_image30=img[377:395,198:231]\n",
    "    filename30=\"src/PAX{}.png\".format(index)\n",
    "    cv2.imwrite(filename30, cropped_image30)\n",
    "   \n",
    "    cropped_image31=img[401:416,204:237]\n",
    "    filename31=\"src/TLX{}.png\".format(index)\n",
    "    cv2.imwrite(filename31, cropped_image31)\n",
    "   \n",
    "    cropped_image32=img[424:442,204:237]\n",
    "    filename32=\"src/KMAXX{}.png\".format(index)\n",
    "    cv2.imwrite(filename32, cropped_image32)\n",
    "   \n",
    "    cropped_image33=img[350:368,253:286]\n",
    "    filename33=\"src/PCY{}.png\".format(index)\n",
    "    cv2.imwrite(filename33, cropped_image33)\n",
    "   \n",
    "    cropped_image34=img[377:395,249:280]\n",
    "    filename34=\"src/PAY{}.png\".format(index)\n",
    "    cv2.imwrite(filename34, cropped_image34)\n",
    "   \n",
    "    cropped_image35=img[401:417,252:286]\n",
    "    filename35=\"src/TLY{}.png\".format(index)\n",
    "    cv2.imwrite(filename35, cropped_image35)\n",
    "   \n",
    "    cropped_image36=img[424:441,252:283]\n",
    "    filename36=\"src/KMAXY{}.png\".format(index)\n",
    "    cv2.imwrite(filename36, cropped_image36)\n",
    "   \n",
    "    cropped_image37=img[453:471,115:175]\n",
    "    filename37=\"src/corneaV{}.png\".format(index)\n",
    "    cv2.imwrite(filename37, cropped_image37)\n",
    "   \n",
    "    cropped_image38=img[481:499,115:175]\n",
    "    filename38=\"src/ChamberV{}.png\".format(index)\n",
    "    cv2.imwrite(filename38, cropped_image38)\n",
    "   \n",
    "    cropped_image39=img[509:527,115:175]\n",
    "    filename39=\"src/ACD{}.png\".format(index)\n",
    "    cv2.imwrite(filename39, cropped_image39)\n",
    "   \n",
    "    cropped_image40=img[537:555,115:175]\n",
    "    filename40=\"src/IOP{}.png\".format(index)\n",
    "    cv2.imwrite(filename40, cropped_image40)\n",
    "   \n",
    "    cropped_image41=img[453:471,232:277]\n",
    "    filename41=\"src/KPD{}.png\".format(index)\n",
    "    cv2.imwrite(filename41, cropped_image41)\n",
    "   \n",
    "    cropped_image42=img[481:499,232:277]\n",
    "    filename42=\"src/Angle{}.png\".format(index)\n",
    "    cv2.imwrite(filename42, cropped_image42)\n",
    "   \n",
    "    cropped_image43=img[509:527,232:277]\n",
    "    filename43=\"src/PupilDia{}.png\".format(index)\n",
    "    cv2.imwrite(filename43, cropped_image43)\n",
    "   \n",
    "    # cropped_image44=img[537:555,232:277]\n",
    "    # filename44=\"src/v{}_44.png\".format(index)\n",
    "    # cv2.imwrite(filename44, cropped_image44)\n",
    "\n",
    "\n",
    "    # things that are commented because soit y a pas de valeur ou bien il n'y a que ok"
   ]
  },
  {
   "cell_type": "code",
   "execution_count": null,
   "metadata": {},
   "outputs": [],
   "source": [
    "# v=cv2.imread('src/v25.png')\n",
    "# crop_vimg(v)"
   ]
  },
  {
   "cell_type": "markdown",
   "metadata": {},
   "source": [
    "### Numbers detection"
   ]
  },
  {
   "cell_type": "markdown",
   "metadata": {},
   "source": [
    "Image to String"
   ]
  },
  {
   "cell_type": "code",
   "execution_count": null,
   "metadata": {},
   "outputs": [],
   "source": [
    "def img2str(imagePath):\n",
    "    # convert image ??\n",
    "    img = cv2.imread(imagePath)\n",
    "    gray = cv2.cvtColor(img, cv2.COLOR_BGR2RGB)\n",
    "\n",
    "    # Create filename for ouput image\n",
    "    filename = r\"output{}.png\".format(os.getpid())\n",
    "\n",
    "    cv2.imwrite(filename, gray)\n",
    "    # cv2.imshow(gray)\n",
    "\n",
    "\n",
    "    text = pytesseract.image_to_string(Img.open(filename))\n",
    "    # os.remove(filename)\n",
    "    # spliting the text\n",
    "\n",
    "    text = text.split()\n",
    "    return text"
   ]
  },
  {
   "cell_type": "markdown",
   "metadata": {},
   "source": [
    "filter numbers and convert to float "
   ]
  },
  {
   "cell_type": "code",
   "execution_count": null,
   "metadata": {},
   "outputs": [],
   "source": [
    "# Check if string contain digits \n",
    "def containsNumber(val):\n",
    "    res = False\n",
    "    for char in val:\n",
    "        if char.isdigit():\n",
    "            res = True\n",
    "            break\n",
    "    return res \n",
    "\n",
    "\n",
    "# Select digits from the string\n",
    "def str2float(val):\n",
    "    res = ''\n",
    "    if containsNumber(val):\n",
    "        for char in val:\n",
    "            if char.isdigit() or char == \".\":\n",
    "                res += char\n",
    "\n",
    "        if res[-1] == '.':\n",
    "            res = res[:-1]\n",
    "        if res[0] == '.':\n",
    "            res = res[1:]\n",
    "        \n",
    "        return float(res)"
   ]
  },
  {
   "cell_type": "code",
   "execution_count": null,
   "metadata": {},
   "outputs": [],
   "source": [
    "# str2float('.7.5')"
   ]
  },
  {
   "cell_type": "markdown",
   "metadata": {},
   "source": [
    "detect number from an image"
   ]
  },
  {
   "cell_type": "code",
   "execution_count": null,
   "metadata": {},
   "outputs": [],
   "source": [
    "def img2float(img):\n",
    "    a = 0.0\n",
    "    text = img2str(img)\n",
    "    for char in text:\n",
    "        if containsNumber(char):\n",
    "            # print(str2float(char))\n",
    "            a = str2float(char)\n",
    "        else:                          \n",
    "            pass\n",
    "    return a"
   ]
  },
  {
   "cell_type": "code",
   "execution_count": null,
   "metadata": {},
   "outputs": [],
   "source": [
    "# img2float('src/KMAXP7.png')"
   ]
  },
  {
   "cell_type": "markdown",
   "metadata": {},
   "source": [
    "#### detect number from a list of image"
   ]
  },
  {
   "cell_type": "code",
   "execution_count": null,
   "metadata": {},
   "outputs": [],
   "source": [
    "def listimg2float (limg):\n",
    "    float_liste = []\n",
    "    for img in limg:\n",
    "        float_liste.append(img2float(img))\n",
    "    \n",
    "    return float_liste"
   ]
  },
  {
   "cell_type": "markdown",
   "metadata": {},
   "source": [
    "## Part 2"
   ]
  },
  {
   "cell_type": "markdown",
   "metadata": {},
   "source": [
    "### Erase text from d images"
   ]
  },
  {
   "cell_type": "markdown",
   "metadata": {},
   "source": [
    "#### Text detection and text impanting"
   ]
  },
  {
   "cell_type": "markdown",
   "metadata": {},
   "source": [
    " Text detection"
   ]
  },
  {
   "cell_type": "code",
   "execution_count": null,
   "metadata": {},
   "outputs": [],
   "source": [
    "def text_detection(img_path):\n",
    "\n",
    "    #read image from the an image path (a jpg/png file or an image url)\n",
    "    img = keras_ocr.tools.read(img_path)\n",
    "\n",
    "    # Prediction_groups is a list of (word, box) tuples\n",
    "    prediction_groups = pipeline.recognize([img])    # here i can insert more then one\n",
    "\n",
    "    #print image with annotation and boxes\n",
    "    # keras_ocr.tools.drawAnnotations(image=img, predictions=prediction_groups[0])\n",
    "    return [img, prediction_groups]\n"
   ]
  },
  {
   "cell_type": "markdown",
   "metadata": {},
   "source": [
    "Text inpaiting"
   ]
  },
  {
   "cell_type": "code",
   "execution_count": null,
   "metadata": {},
   "outputs": [],
   "source": [
    "def midpoint(x1, y1, x2, y2):\n",
    "    x_mid = int((x1 + x2)/2)\n",
    "    y_mid = int((y1 + y2)/2)\n",
    "    \n",
    "    return (x_mid, y_mid)\n",
    "\n",
    "def erase_text(img, prediction_groups):\n",
    "    \n",
    "    img_inpainted = img\n",
    "\n",
    "    #example of a line mask img\n",
    "    for i in range(len(prediction_groups[0])):        # PAS TOUT LES IMAGE CONTAIN THE SAME NUMBER OF DATA\n",
    "        box = prediction_groups[0][i]\n",
    "        x0, y0 = box[1][0]\n",
    "        x1, y1 = box[1][1] \n",
    "        x2, y2 = box[1][2]\n",
    "        x3, y3 = box[1][3] \n",
    "        \n",
    "        x_mid0, y_mid0 = midpoint(x1, y1, x2, y2)\n",
    "        x_mid1, y_mi1 = midpoint(x0, y0, x3, y3)\n",
    "        thickness = int(math.sqrt( (x2 - x1)**2 + (y2 - y1)**2 ))\n",
    "\n",
    "        # create the mask\n",
    "        mask = np.zeros(img.shape[:2], dtype=\"uint8\")\n",
    "        cv2.line(mask, (x_mid0, y_mid0), (x_mid1, y_mi1), 255, thickness)\n",
    "\n",
    "        img_inpainted = cv2.inpaint(img_inpainted, mask, 7, cv2.INPAINT_NS)\n",
    "    # plt.imshow(img_inpainted)\n",
    "\n",
    "    return img_inpainted\n",
    "     "
   ]
  },
  {
   "cell_type": "markdown",
   "metadata": {},
   "source": [
    "Impaint --> transform to str --> save the impainting img"
   ]
  },
  {
   "cell_type": "code",
   "execution_count": null,
   "metadata": {},
   "outputs": [],
   "source": [
    "def paint2impaint(img_path):                   # colors change from rgb to ...\n",
    "    img, prediction_groups = text_detection(img_path)\n",
    "    A_inpainted = erase_text(img, prediction_groups)   # img\n",
    "    # print(A_inpainted) \n",
    "    img_inpainted = Img.fromarray(A_inpainted)\n",
    "    img_inpainted.save(img_path)"
   ]
  },
  {
   "cell_type": "code",
   "execution_count": null,
   "metadata": {},
   "outputs": [],
   "source": [
    "# img_path = \"src/d3_18.png\"\n",
    "# paint2impaint(img_path)\n",
    "# text_detection(img_path)[1]\n",
    "# A = erase_text(text_detection(img_path)[0], text_detection(img_path)[1])\n",
    "# A\n",
    "# np2img(A)"
   ]
  },
  {
   "cell_type": "markdown",
   "metadata": {},
   "source": [
    "### Readfile imgs depending on the given name"
   ]
  },
  {
   "cell_type": "code",
   "execution_count": null,
   "metadata": {},
   "outputs": [],
   "source": [
    "def readFileImages(folder, name):\n",
    "    files = os.listdir(folder)\n",
    "    image_list = []\n",
    "    #st = strFolderName+\"{}*.png\".format(name)\n",
    "    for filename in files:\n",
    "        if filename.startswith(name):\n",
    "            image_list.append(folder + '/' + filename)\n",
    "\n",
    "    return image_list"
   ]
  },
  {
   "cell_type": "markdown",
   "metadata": {},
   "source": [
    "## Insert images folder -> run code part 1 & 2 -> create dataframe"
   ]
  },
  {
   "cell_type": "markdown",
   "metadata": {},
   "source": [
    "##### Listing the img of the folder depending on its name and organize them in a dataframe"
   ]
  },
  {
   "cell_type": "code",
   "execution_count": null,
   "metadata": {},
   "outputs": [],
   "source": [
    "def listing_imgs(folder):\n",
    "    raw_imgs = [\"info_project1\",\"info_project2\",\"info_project3\",\"info_project4\",\"info_project5\",\"info_project6\"]    # i should change it's form t to png so as to have the same format or create its function by its own\n",
    "\n",
    "    v_list = readFileImages(folder, 'v')\n",
    "    # print(v_list)\n",
    "\n",
    "    d1_list = readFileImages(folder, 'd1')\n",
    "    d2_list = readFileImages(folder, 'd2')\n",
    "    d3_list = readFileImages(folder, 'd3')\n",
    "    d4_list = readFileImages(folder, 'd4')\n",
    "\n",
    "    ACD_list = readFileImages(folder, 'ACD')\n",
    "    Angle_list = readFileImages(folder, 'Angle')\n",
    "    AstigCB_list = readFileImages(folder, 'AstigCB')\n",
    "    AstigCF_list = readFileImages(folder, 'AstigCF')\n",
    "    AxisCB_list = readFileImages(folder, 'AxisCB')\n",
    "    AxisCF_list = readFileImages(folder, 'AxisCF')\n",
    "    ChamberV_list = readFileImages(folder, 'ChamberV')\n",
    "    corneaV_list = readFileImages(folder, 'corneaV')\n",
    "    IOP_list = readFileImages(folder, 'IOP')\n",
    "    K1CB_list = readFileImages(folder, 'K1CB')\n",
    "    K1CF_list = readFileImages(folder, 'K1CF')\n",
    "    K2CB_list = readFileImages(folder, 'K2CB')\n",
    "    K2CF_list = readFileImages(folder, 'K2CF')\n",
    "    KMAXP_list = readFileImages(folder, 'KMAXP')\n",
    "    KMAXX_list = readFileImages(folder, 'KMAXX')\n",
    "    KMAXY_list = readFileImages(folder, 'KMAXY')\n",
    "    KmCB_list = readFileImages(folder, 'KmCB')\n",
    "    KmCF_list = readFileImages(folder, 'KmCF')\n",
    "    KPD_list = readFileImages(folder, 'KPD')\n",
    "    PAP_list = readFileImages(folder, 'PAP')\n",
    "    PAX_list = readFileImages(folder, 'PAX')\n",
    "    PAY_list = readFileImages(folder, 'PAY')\n",
    "    PCP_list = readFileImages(folder, 'PCP')\n",
    "    PCX_list = readFileImages(folder, 'PCX')\n",
    "    PCY_list = readFileImages(folder, 'PCY')\n",
    "    PupilDia_list = readFileImages(folder, 'PupilDia')\n",
    "    QvalCF_list = readFileImages(folder, 'QvalCF')\n",
    "    QvalCB_list = readFileImages(folder, 'QvalCB')\n",
    "    RFCB_list = readFileImages(folder, 'RFCB')\n",
    "    RFCF_list = readFileImages(folder, 'RFCF')\n",
    "    RmCB_list = readFileImages(folder, 'RmCB')\n",
    "    RmCF_list = readFileImages(folder, 'RmCF')\n",
    "    RminCB_list = readFileImages(folder, 'RminCB')\n",
    "    RminCF_list = readFileImages(folder, 'RminCF')\n",
    "    RperCF_list = readFileImages(folder, 'RperCF')\n",
    "    RperCB_list = readFileImages(folder, 'RperCB')\n",
    "    RSCF_list = readFileImages(folder, 'RSCF')\n",
    "    RSCB_list = readFileImages(folder, 'RSCB')\n",
    "    TLP_list = readFileImages(folder, 'TLP')\n",
    "    TLX_list = readFileImages(folder, 'TLX')\n",
    "    TLY_list = readFileImages(folder, 'TLY')\n",
    "\n",
    "    ACD = listimg2float(ACD_list)\n",
    "    Angle = listimg2float(Angle_list)\n",
    "    AstigCB = listimg2float(AstigCB_list)\n",
    "    AstigCF =listimg2float(AstigCF_list)\n",
    "    AxisCB = listimg2float(AxisCB_list)\n",
    "    AxisCF = listimg2float(AxisCF_list)\n",
    "    ChamberV = listimg2float(ChamberV_list)\n",
    "    corneaV = listimg2float(corneaV_list)\n",
    "    IOP = listimg2float(IOP_list)\n",
    "    K1CB =listimg2float(K1CB_list)\n",
    "    K1CF = listimg2float(K1CF_list)\n",
    "    K2CB = listimg2float(K2CB_list)\n",
    "    K2CF = listimg2float(K2CF_list)\n",
    "    KMAXP = listimg2float(KMAXP_list)\n",
    "    KMAXX = listimg2float(KMAXX_list)\n",
    "    KMAXY = listimg2float(KMAXY_list)\n",
    "    KmCB = listimg2float(KmCB_list)\n",
    "    KmCF = listimg2float(KmCF_list)\n",
    "    KPD = listimg2float(KPD_list)\n",
    "    PAP = listimg2float(PAP_list)\n",
    "    PAX = listimg2float(PAX_list)\n",
    "    PAY = listimg2float(PAY_list)\n",
    "    PCP = listimg2float(PCP_list)\n",
    "    PCX = listimg2float(PCX_list)\n",
    "    PCY = listimg2float(PCY_list)\n",
    "    PupilDia = listimg2float(PupilDia_list)\n",
    "    QvalCF = listimg2float(QvalCF_list)\n",
    "    QvalCB = listimg2float(QvalCB_list)\n",
    "    RFCB = listimg2float(RFCB_list)\n",
    "    RFCF = listimg2float(RFCF_list)\n",
    "    RmCB = listimg2float(RmCB_list)\n",
    "    RmCF = listimg2float(RmCF_list)\n",
    "    RminCB = listimg2float(RminCB_list)\n",
    "    RminCF = listimg2float(RminCF_list)\n",
    "    RperCF =listimg2float(RperCF_list)\n",
    "    RperCB = listimg2float(RperCB_list)\n",
    "    RSCF = listimg2float(RSCF_list)\n",
    "    RSCB = listimg2float(RSCB_list)\n",
    "    TLP = listimg2float(TLP_list)\n",
    "    TLX = listimg2float(TLX_list)\n",
    "    TLY = listimg2float(TLY_list)\n",
    "    ACD = listimg2float(ACD_list)\n",
    "    Angle = listimg2float(Angle_list)\n",
    "    AstigCB = listimg2float(AstigCB_list)\n",
    "    AstigCF =listimg2float(AstigCF_list)\n",
    "    AxisCB = listimg2float(AxisCB_list)\n",
    "    AxisCF = listimg2float(AxisCF_list)\n",
    "    ChamberV = listimg2float(ChamberV_list)\n",
    "    corneaV = listimg2float(corneaV_list)\n",
    "    IOP = listimg2float(IOP_list)\n",
    "    K1CB =listimg2float(K1CB_list)\n",
    "    K1CF = listimg2float(K1CF_list)\n",
    "    K2CB = listimg2float(K2CB_list)\n",
    "    K2CF = listimg2float(K2CF_list)\n",
    "    KMAXP = listimg2float(KMAXP_list)\n",
    "    KMAXX = listimg2float(KMAXX_list)\n",
    "    KMAXY = listimg2float(KMAXY_list)\n",
    "    KmCB = listimg2float(KmCB_list)\n",
    "    KmCF = listimg2float(KmCF_list)\n",
    "    KPD = listimg2float(KPD_list)\n",
    "    PAP = listimg2float(PAP_list)\n",
    "    PAX = listimg2float(PAX_list)\n",
    "    PAY = listimg2float(PAY_list)\n",
    "    PCP = listimg2float(PCP_list)\n",
    "    PCX = listimg2float(PCX_list)\n",
    "    PCY = listimg2float(PCY_list)\n",
    "    PupilDia = listimg2float(PupilDia_list)\n",
    "    QvalCF = listimg2float(QvalCF_list)\n",
    "    QvalCB = listimg2float(QvalCB_list)\n",
    "    RFCB = listimg2float(RFCB_list)\n",
    "    RFCF = listimg2float(RFCF_list)\n",
    "    RmCB = listimg2float(RmCB_list)\n",
    "    RmCF = listimg2float(RmCF_list)\n",
    "    RminCB = listimg2float(RminCB_list)\n",
    "    RminCF = listimg2float(RminCF_list)\n",
    "    RperCF =listimg2float(RperCF_list)\n",
    "    RperCB = listimg2float(RperCB_list)\n",
    "    RSCF = listimg2float(RSCF_list)\n",
    "    RSCB = listimg2float(RSCB_list)\n",
    "    TLP = listimg2float(TLP_list)\n",
    "    TLX = listimg2float(TLX_list)\n",
    "    TLY = listimg2float(TLY_list)\n",
    "\n",
    "    # create a dict with initial data\n",
    "    d = { 'raw_img':raw_imgs,'v':v_list, 'd1':d1_list, 'd2':d2_list,\n",
    "        'd3':d3_list, 'd4':d4_list, 'RFCF':RFCF,'RSCF': RSCF, \n",
    "        'RmCF':RmCF, 'AxisCF': AxisCF, 'RperCF ':RperCF, 'K1CF': K1CF,\n",
    "        'K2CF ':K2CF, 'KmCF': KmCF, 'AstigCF ':AstigCF, \n",
    "        'RminCF': RminCF,'RFCB':RFCB,'RSCB': RSCB, 'RmCB':RmCB, \n",
    "        'AxisCB': AxisCB, 'RperCB ':RperCB, 'K1CB': K1CB, 'K2CB':K2CB,\n",
    "        'KmCF': KmCB, 'AstigCB ':AstigCB, 'RminCB': RminCB,\n",
    "        'PCP': PCP, 'PCX': PCX, 'PCY': PCY, 'PAP': PAP,'PAX': PAX,\n",
    "        'PAY': PAY, 'TLP': TLP,'TLX': TLX, 'TLY': TLY, \n",
    "        'KMAXP': KMAXP,'KMAXX': KMAXX, 'KMAXY': KMAXY,\n",
    "        'CorneaV' : corneaV, 'ChamberV': ChamberV, 'ACD': ACD,\n",
    "        'IOP': IOP, 'KPD': KPD, 'Angle':Angle, 'PupilDia':PupilDia}\n",
    "\n",
    "\n",
    "    # create initial pandas dataframe\n",
    "    df = pd.DataFrame(data=d)\n",
    "    \n",
    "    return df"
   ]
  },
  {
   "cell_type": "code",
   "execution_count": null,
   "metadata": {},
   "outputs": [],
   "source": [
    "# listing_imgs(\"src/\")"
   ]
  },
  {
   "cell_type": "markdown",
   "metadata": {},
   "source": [
    "#### Run Code"
   ]
  },
  {
   "cell_type": "code",
   "execution_count": null,
   "metadata": {},
   "outputs": [],
   "source": [
    "# the folder contain only raw img and for each one wenwill create a folder containing d imgs v imgs...\n",
    "def runcode(folder):\n",
    "    raw_imgs = os.listdir(folder)\n",
    "    for img in raw_imgs:\n",
    "        image = cv2.imread(folder + '/' + img)   #\n",
    "        crop_orig_img(image)\n",
    "    \n",
    "    v_imgs = readFileImages(folder, 'v')\n",
    "    index = 0\n",
    "    for vimg in v_imgs:\n",
    "        image = cv2.imread(vimg)\n",
    "        crop_vimg(image)\n",
    "\n",
    "    d_imgs = readFileImages(folder, 'd')\n",
    "    for dimg in d_imgs:\n",
    "        paint2impaint(dimg)\n",
    "\n",
    "    df = listing_imgs(folder)\n",
    "    df.to_csv('src/df.csv', encoding='utf-8')\n",
    "    \n",
    "    return df"
   ]
  },
  {
   "cell_type": "code",
   "execution_count": null,
   "metadata": {},
   "outputs": [],
   "source": [
    "# runcode('src')"
   ]
  },
  {
   "cell_type": "markdown",
   "metadata": {},
   "source": [
    "### Test"
   ]
  },
  {
   "cell_type": "code",
   "execution_count": null,
   "metadata": {},
   "outputs": [],
   "source": [
    "# folder = input(\"Saisir dossier correspondant : \") \n",
    "# df = runcode(folder)\n",
    "# df.head()"
   ]
  },
  {
   "cell_type": "markdown",
   "metadata": {},
   "source": []
  },
  {
   "cell_type": "code",
   "execution_count": null,
   "metadata": {},
   "outputs": [],
   "source": [
    "# # df = listing_imgs(\"src/\")\n",
    "# my_list = df.columns.values.tolist()\n",
    "# liste = my_list[6:]\n",
    "# zahia = df[liste].values.flatten()\n",
    "# # df.index.values\n",
    "# # df\n",
    "# for z in zahia:\n",
    "#     z = str(z)\n",
    "#     if z[-1] == \".\" or z[0] == \".\" :\n",
    "#         print(z)"
   ]
  },
  {
   "cell_type": "code",
   "execution_count": null,
   "metadata": {},
   "outputs": [],
   "source": [
    "# run code part 1 in order to insert data in df"
   ]
  },
  {
   "cell_type": "code",
   "execution_count": null,
   "metadata": {},
   "outputs": [],
   "source": [
    "# run code part 2 in order to insert data in df"
   ]
  },
  {
   "cell_type": "markdown",
   "metadata": {},
   "source": [
    "# Graphic Interface"
   ]
  },
  {
   "cell_type": "markdown",
   "metadata": {},
   "source": [
    "#### Insert File Command"
   ]
  },
  {
   "cell_type": "code",
   "execution_count": null,
   "metadata": {},
   "outputs": [],
   "source": [
    "def cmd_insert():\n",
    "    folder = fd.askdirectory(initialdir=os.path.normpath(\"C://\"), title=\"Open folder\") \n",
    "    runcode(folder)"
   ]
  },
  {
   "cell_type": "markdown",
   "metadata": {},
   "source": [
    "#### Create Interface"
   ]
  },
  {
   "cell_type": "code",
   "execution_count": null,
   "metadata": {},
   "outputs": [],
   "source": [
    "def interface():\n",
    "\n",
    "    f = Tk()\n",
    "    label= Label(text=\"Make Your Vision Health a Prioprity\",foreground=\"white\",background=\"#4682B4\", width=100,height=60)\n",
    "    font = ft.Font(family='Times New Roman', size=35, weight=\"bold\")\n",
    "    label['font']=font\n",
    "    label.pack()\n",
    "    g = ft.Font(family='Times New Roman',size=15, weight=\"bold\")\n",
    "    button = Button(text=\"Insert file\",width=15, height=2, bg=\"white\",fg=\"#4682B4\", command = cmd_insert)\n",
    "    button['font']=g\n",
    "    button.place(relx=0.5, y=600, anchor = CENTER)\n",
    "\n",
    "    f.mainloop()"
   ]
  },
  {
   "cell_type": "markdown",
   "metadata": {},
   "source": [
    "#### Test"
   ]
  },
  {
   "cell_type": "code",
   "execution_count": null,
   "metadata": {},
   "outputs": [],
   "source": [
    "interface()"
   ]
  }
 ],
 "metadata": {
  "interpreter": {
   "hash": "5ae58900cfbb8c43ab3495913814b7cf26024f51651a94ce8bf64d6111688e8d"
  },
  "kernelspec": {
   "display_name": "Python 3.8.8 ('base')",
   "language": "python",
   "name": "python3"
  },
  "language_info": {
   "codemirror_mode": {
    "name": "ipython",
    "version": 3
   },
   "file_extension": ".py",
   "mimetype": "text/x-python",
   "name": "python",
   "nbconvert_exporter": "python",
   "pygments_lexer": "ipython3",
   "version": "3.8.8"
  },
  "orig_nbformat": 4
 },
 "nbformat": 4,
 "nbformat_minor": 2
}
